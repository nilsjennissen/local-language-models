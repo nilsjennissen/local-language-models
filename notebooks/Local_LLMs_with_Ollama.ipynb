{
 "cells": [
  {
   "metadata": {},
   "cell_type": "markdown",
   "source": "[![Open In Colab](https://colab.research.google.com/assets/colab-badge.svg)](https://colab.research.google.com/github/nilsjennissen/local-language_models/blob/main/notebooks/Local_LLMs_with_Ollama.ipynb)",
   "id": "1a259fde88b9325e"
  },
  {
   "metadata": {},
   "cell_type": "markdown",
   "source": "# Local LLMs with Ollama",
   "id": "7e2468c27f9bb47f"
  },
  {
   "metadata": {},
   "cell_type": "markdown",
   "source": [
    "## Install Ollama\n",
    "Download and install Ollama for Mac, Window or Linux from [here](https://ollama.com/)."
   ],
   "id": "adf15cbfcd79f8bc"
  },
  {
   "cell_type": "code",
   "execution_count": null,
   "id": "initial_id",
   "metadata": {
    "collapsed": true
   },
   "outputs": [],
   "source": "!pip install ollama"
  },
  {
   "metadata": {},
   "cell_type": "markdown",
   "source": [
    "## Run ollama in terminal (bash)\n",
    "Start using Ollama in terminal (bash) by running the following command:"
   ],
   "id": "a3510bebe85ed259"
  },
  {
   "metadata": {
    "ExecuteTime": {
     "end_time": "2024-05-30T10:00:44.614452Z",
     "start_time": "2024-05-30T10:00:33.596225Z"
    }
   },
   "cell_type": "code",
   "source": "!ollama run llama3 \"Write a poem about the sky\"",
   "id": "6c661ddbdcaa83c5",
   "outputs": [
    {
     "name": "stdout",
     "output_type": "stream",
     "text": [
      "\u001B[?25l⠋ \u001B[?25h\u001B[?25l\u001B[2K\u001B[1G⠹ \u001B[?25h\u001B[?25l\u001B[2K\u001B[1G⠸ \u001B[?25h\u001B[?25l\u001B[2K\u001B[1G⠼ \u001B[?25h\u001B[?25l\u001B[2K\u001B[1G⠴ \u001B[?25h\u001B[?25l\u001B[2K\u001B[1G⠦ \u001B[?25h\u001B[?25l\u001B[2K\u001B[1G⠧ \u001B[?25h\u001B[?25l\u001B[2K\u001B[1G⠇ \u001B[?25h\u001B[?25l\u001B[2K\u001B[1G⠏ \u001B[?25h\u001B[?25l\u001B[2K\u001B[1G⠋ \u001B[?25h\u001B[?25l\u001B[2K\u001B[1G⠙ \u001B[?25h\u001B[?25l\u001B[2K\u001B[1G⠹ \u001B[?25h\u001B[?25l\u001B[2K\u001B[1G⠸ \u001B[?25h\u001B[?25l\u001B[2K\u001B[1G⠼ \u001B[?25h\u001B[?25l\u001B[2K\u001B[1G⠴ \u001B[?25h\u001B[?25l\u001B[2K\u001B[1G⠦ \u001B[?25h\u001B[?25l\u001B[2K\u001B[1G⠧ \u001B[?25h\u001B[?25l\u001B[2K\u001B[1G⠇ \u001B[?25h\u001B[?25l\u001B[2K\u001B[1G⠏ \u001B[?25h\u001B[?25l\u001B[2K\u001B[1G⠋ \u001B[?25h\u001B[?25l\u001B[2K\u001B[1G⠙ \u001B[?25h\u001B[?25l\u001B[2K\u001B[1G⠹ \u001B[?25h\u001B[?25l\u001B[2K\u001B[1G⠸ \u001B[?25h\u001B[?25l\u001B[2K\u001B[1G⠼ \u001B[?25h\u001B[?25l\u001B[2K\u001B[1G⠴ \u001B[?25h\u001B[?25l\u001B[2K\u001B[1G⠦ \u001B[?25h\u001B[?25l\u001B[2K\u001B[1G⠧ \u001B[?25h\u001B[?25l\u001B[2K\u001B[1G⠇ \u001B[?25h\u001B[?25l\u001B[2K\u001B[1G⠏ \u001B[?25h\u001B[?25l\u001B[2K\u001B[1G⠋ \u001B[?25h\u001B[?25l\u001B[2K\u001B[1G⠙ \u001B[?25h\u001B[?25l\u001B[2K\u001B[1G⠹ \u001B[?25h\u001B[?25l\u001B[2K\u001B[1G⠸ \u001B[?25h\u001B[?25l\u001B[2K\u001B[1G⠼ \u001B[?25h\u001B[?25l\u001B[2K\u001B[1G⠴ \u001B[?25h\u001B[?25l\u001B[2K\u001B[1G⠦ \u001B[?25h\u001B[?25l\u001B[2K\u001B[1G⠧ \u001B[?25h\u001B[?25l\u001B[2K\u001B[1G⠇ \u001B[?25h\u001B[?25l\u001B[2K\u001B[1G⠏ \u001B[?25h\u001B[?25l\u001B[2K\u001B[1G⠋ \u001B[?25h\u001B[?25l\u001B[2K\u001B[1G⠙ \u001B[?25h\u001B[?25l\u001B[2K\u001B[1G⠹ \u001B[?25h\u001B[?25l\u001B[2K\u001B[1G⠸ \u001B[?25h\u001B[?25l\u001B[2K\u001B[1G⠼ \u001B[?25h\u001B[?25l\u001B[2K\u001B[1G⠴ \u001B[?25h\u001B[?25l\u001B[2K\u001B[1G⠦ \u001B[?25h\u001B[?25l\u001B[2K\u001B[1G⠧ \u001B[?25h\u001B[?25l\u001B[2K\u001B[1G⠇ \u001B[?25h\u001B[?25l\u001B[2K\u001B[1G⠏ \u001B[?25h\u001B[?25l\u001B[2K\u001B[1G⠋ \u001B[?25h\u001B[?25l\u001B[2K\u001B[1G⠙ \u001B[?25h\u001B[?25l\u001B[2K\u001B[1G⠹ \u001B[?25h\u001B[?25l\u001B[2K\u001B[1G⠸ \u001B[?25h\u001B[?25l\u001B[2K\u001B[1G⠼ \u001B[?25h\u001B[?25l\u001B[2K\u001B[1G⠴ \u001B[?25h\u001B[?25l\u001B[2K\u001B[1G⠦ \u001B[?25h\u001B[?25l\u001B[2K\u001B[1G⠧ \u001B[?25h\u001B[?25l\u001B[2K\u001B[1G⠇ \u001B[?25h\u001B[?25l\u001B[2K\u001B[1G⠏ \u001B[?25h\u001B[?25l\u001B[2K\u001B[1G⠋ \u001B[?25h\u001B[?25l\u001B[2K\u001B[1G⠙ \u001B[?25h\u001B[?25l\u001B[2K\u001B[1G⠹ \u001B[?25h\u001B[?25l\u001B[2K\u001B[1G⠸ \u001B[?25h\u001B[?25l\u001B[2K\u001B[1G⠼ \u001B[?25h\u001B[?25l\u001B[2K\u001B[1G⠴ \u001B[?25h\u001B[?25l\u001B[2K\u001B[1G⠦ \u001B[?25h\u001B[?25l\u001B[2K\u001B[1G⠧ \u001B[?25h\u001B[?25l\u001B[2K\u001B[1G⠇ \u001B[?25h\u001B[?25l\u001B[2K\u001B[1G⠏ \u001B[?25h\u001B[?25l\u001B[?25l\u001B[2K\u001B[1G\u001B[?25h\u001B[2K\u001B[1G\u001B[?25hThe\u001B[?25l\u001B[?25h sky\u001B[?25l\u001B[?25h,\u001B[?25l\u001B[?25h a\u001B[?25l\u001B[?25h canvas\u001B[?25l\u001B[?25h vast\u001B[?25l\u001B[?25h and\u001B[?25l\u001B[?25h wide\u001B[?25l\u001B[?25h,\r\n",
      "\u001B[?25l\u001B[?25hA\u001B[?25l\u001B[?25h masterpiece\u001B[?25l\u001B[?25h of\u001B[?25l\u001B[?25h blue\u001B[?25l\u001B[?25h and\u001B[?25l\u001B[?25h clouds\u001B[?25l\u001B[?25h inside\u001B[?25l\u001B[?25h,\r\n",
      "\u001B[?25l\u001B[?25hA\u001B[?25l\u001B[?25h realm\u001B[?25l\u001B[?25h of\u001B[?25l\u001B[?25h wonder\u001B[?25l\u001B[?25h,\u001B[?25l\u001B[?25h mystery\u001B[?25l\u001B[?25h and\u001B[?25l\u001B[?25h might\u001B[?25l\u001B[?25h,\r\n",
      "\u001B[?25l\u001B[?25hWhere\u001B[?25l\u001B[?25h sun\u001B[?25l\u001B[?25hbe\u001B[?25l\u001B[?25hams\u001B[?25l\u001B[?25h dance\u001B[?25l\u001B[?25h and\u001B[?25l\u001B[?25h stars\u001B[?25l\u001B[?25h take\u001B[?25l\u001B[?25h flight\u001B[?25l\u001B[?25h.\r\n",
      "\r\n",
      "\u001B[?25l\u001B[?25hAt\u001B[?25l\u001B[?25h dawn\u001B[?25l\u001B[?25h's\u001B[?25l\u001B[?25h awakening\u001B[?25l\u001B[?25h,\u001B[?25l\u001B[?25h when\u001B[?25l\u001B[?25h darkness\u001B[?25l\u001B[?25h fle\u001B[?25l\u001B[?25hes\u001B[?25l\u001B[?25h,\r\n",
      "\u001B[?25l\u001B[?25hThe\u001B[?25l\u001B[?25h sky\u001B[?25l\u001B[?25h is\u001B[?25l\u001B[?25h painted\u001B[?25l\u001B[?25h with\u001B[?25l\u001B[?25h hues\u001B[?25l\u001B[?25h that\u001B[?25l\u001B[?25h tease\u001B[?25l\u001B[?25h,\r\n",
      "\u001B[?25l\u001B[?25hSoft\u001B[?25l\u001B[?25h p\u001B[?25l\u001B[?25hinks\u001B[?25l\u001B[?25h and\u001B[?25l\u001B[?25h pe\u001B[?25l\u001B[?25haches\u001B[?25l\u001B[?25h,\u001B[?25l\u001B[?25h gold\u001B[?25l\u001B[?25hs\u001B[?25l\u001B[?25h and\u001B[?25l\u001B[?25h creams\u001B[?25l\u001B[?25h,\r\n",
      "\u001B[?25l\u001B[?25hAs\u001B[?25l\u001B[?25h morning\u001B[?25l\u001B[?25h's\u001B[?25l\u001B[?25h beauty\u001B[?25l\u001B[?25h in\u001B[?25l\u001B[?25h its\u001B[?25l\u001B[?25h prime\u001B[?25l\u001B[?25h it\u001B[?25l\u001B[?25h seems\u001B[?25l\u001B[?25h.\r\n",
      "\r\n",
      "\u001B[?25l\u001B[?25hThe\u001B[?25l\u001B[?25h day\u001B[?25l\u001B[?25h unw\u001B[?25l\u001B[?25hinds\u001B[?25l\u001B[?25h,\u001B[?25l\u001B[?25h and\u001B[?25l\u001B[?25h clouds\u001B[?25l\u001B[?25h come\u001B[?25l\u001B[?25h to\u001B[?25l\u001B[?25h play\u001B[?25l\u001B[?25h,\r\n",
      "\u001B[?25l\u001B[?25hMarsh\u001B[?25l\u001B[?25halling\u001B[?25l\u001B[?25h wis\u001B[?25l\u001B[?25hps\u001B[?25l\u001B[?25h of\u001B[?25l\u001B[?25h white\u001B[?25l\u001B[?25h and\u001B[?25l\u001B[?25h gray\u001B[?25l\u001B[?25h,\r\n",
      "\u001B[?25l\u001B[?25hTheir\u001B[?25l\u001B[?25h whispers\u001B[?25l\u001B[?25h carried\u001B[?25l\u001B[?25h on\u001B[?25l\u001B[?25h the\u001B[?25l\u001B[?25h breeze\u001B[?25l\u001B[?25h so\u001B[?25l\u001B[?25h light\u001B[?25l\u001B[?25h,\r\n",
      "\u001B[?25l\u001B[?25hAs\u001B[?25l\u001B[?25h nature\u001B[?25l\u001B[?25h's\u001B[?25l\u001B[?25h poetry\u001B[?25l\u001B[?25h takes\u001B[?25l\u001B[?25h flight\u001B[?25l\u001B[?25h tonight\u001B[?25l\u001B[?25h.\r\n",
      "\r\n",
      "\u001B[?25l\u001B[?25hAt\u001B[?25l\u001B[?25h sunset\u001B[?25l\u001B[?25h's\u001B[?25l\u001B[?25h glow\u001B[?25l\u001B[?25h,\u001B[?25l\u001B[?25h when\u001B[?25l\u001B[?25h day\u001B[?25l\u001B[?25h gives\u001B[?25l\u001B[?25h way\u001B[?25l\u001B[?25h to\u001B[?25l\u001B[?25h night\u001B[?25l\u001B[?25h,\r\n",
      "\u001B[?25l\u001B[?25hThe\u001B[?25l\u001B[?25h sky\u001B[?25l\u001B[?25h is\u001B[?25l\u001B[?25h set\u001B[?25l\u001B[?25h afl\u001B[?25l\u001B[?25hame\u001B[?25l\u001B[?25h with\u001B[?25l\u001B[?25h fiery\u001B[?25l\u001B[?25h light\u001B[?25l\u001B[?25h,\r\n",
      "\u001B[?25l\u001B[?25hA\u001B[?25l\u001B[?25h kale\u001B[?25l\u001B[?25hidos\u001B[?25l\u001B[?25hcope\u001B[?25l\u001B[?25h of\u001B[?25l\u001B[?25h red\u001B[?25l\u001B[?25hs\u001B[?25l\u001B[?25h and\u001B[?25l\u001B[?25h oranges\u001B[?25l\u001B[?25h bright\u001B[?25l\u001B[?25h,\r\n",
      "\u001B[?25l\u001B[?25hAs\u001B[?25l\u001B[?25h stars\u001B[?25l\u001B[?25h begin\u001B[?25l\u001B[?25h their\u001B[?25l\u001B[?25h twink\u001B[?25l\u001B[?25hling\u001B[?25l\u001B[?25h delight\u001B[?25l\u001B[?25h.\r\n",
      "\r\n",
      "\u001B[?25l\u001B[?25hIn\u001B[?25l\u001B[?25h moon\u001B[?25l\u001B[?25hlit\u001B[?25l\u001B[?25h hours\u001B[?25l\u001B[?25h,\u001B[?25l\u001B[?25h when\u001B[?25l\u001B[?25h darkness\u001B[?25l\u001B[?25h reign\u001B[?25l\u001B[?25hs\u001B[?25l\u001B[?25h supreme\u001B[?25l\u001B[?25h,\r\n",
      "\u001B[?25l\u001B[?25hThe\u001B[?25l\u001B[?25h sky\u001B[?25l\u001B[?25h is\u001B[?25l\u001B[?25h bath\u001B[?25l\u001B[?25hed\u001B[?25l\u001B[?25h in\u001B[?25l\u001B[?25h sil\u001B[?25l\u001B[?25hvery\u001B[?25l\u001B[?25h she\u001B[?25l\u001B[?25hen\u001B[?25l\u001B[?25h,\r\n",
      "\u001B[?25l\u001B[?25hA\u001B[?25l\u001B[?25h pathway\u001B[?25l\u001B[?25h for\u001B[?25l\u001B[?25h the\u001B[?25l\u001B[?25h dreams\u001B[?25l\u001B[?25h that\u001B[?25l\u001B[?25h we\u001B[?25l\u001B[?25h design\u001B[?25l\u001B[?25h,\r\n",
      "\u001B[?25l\u001B[?25hWhere\u001B[?25l\u001B[?25h const\u001B[?25l\u001B[?25hell\u001B[?25l\u001B[?25hations\u001B[?25l\u001B[?25h whisper\u001B[?25l\u001B[?25h secrets\u001B[?25l\u001B[?25h divine\u001B[?25l\u001B[?25h.\r\n",
      "\r\n",
      "\u001B[?25l\u001B[?25hOh\u001B[?25l\u001B[?25h,\u001B[?25l\u001B[?25h the\u001B[?25l\u001B[?25h sky\u001B[?25l\u001B[?25h,\u001B[?25l\u001B[?25h a\u001B[?25l\u001B[?25h reflection\u001B[?25l\u001B[?25h of\u001B[?25l\u001B[?25h our\u001B[?25l\u001B[?25h soul\u001B[?25l\u001B[?25h,\r\n",
      "\u001B[?25l\u001B[?25hA\u001B[?25l\u001B[?25h mirror\u001B[?25l\u001B[?25h to\u001B[?25l\u001B[?25h our\u001B[?25l\u001B[?25h hopes\u001B[?25l\u001B[?25h and\u001B[?25l\u001B[?25h deepest\u001B[?25l\u001B[?25h goal\u001B[?25l\u001B[?25h,\r\n",
      "\u001B[?25l\u001B[?25hWhere\u001B[?25l\u001B[?25h imagination\u001B[?25l\u001B[?25h knows\u001B[?25l\u001B[?25h no\u001B[?25l\u001B[?25h bounds\u001B[?25l\u001B[?25h or\u001B[?25l\u001B[?25h time\u001B[?25l\u001B[?25h,\r\n",
      "\u001B[?25l\u001B[?25hAnd\u001B[?25l\u001B[?25h the\u001B[?25l\u001B[?25h beauty\u001B[?25l\u001B[?25h of\u001B[?25l\u001B[?25h creation\u001B[?25l\u001B[?25h shines\u001B[?25l\u001B[?25h sublime\u001B[?25l\u001B[?25h.\u001B[?25l\u001B[?25h\r\n",
      "\r\n",
      "\u001B[?25l\u001B[?25h"
     ]
    }
   ],
   "execution_count": 4
  },
  {
   "metadata": {},
   "cell_type": "markdown",
   "source": "## RAG with Ollama in terminal (bash)",
   "id": "32e3c5930e481025"
  },
  {
   "metadata": {},
   "cell_type": "code",
   "outputs": [],
   "execution_count": null,
   "source": "!ollama run llama3 \"Summarize this file: $(cat file.txt)\"",
   "id": "79ddd59a20fee89f"
  },
  {
   "metadata": {},
   "cell_type": "markdown",
   "source": "## Run Ollama in Notebook",
   "id": "483ece972caaa0a2"
  },
  {
   "metadata": {
    "ExecuteTime": {
     "end_time": "2024-05-30T10:02:47.542611Z",
     "start_time": "2024-05-30T10:02:47.427634Z"
    }
   },
   "cell_type": "code",
   "source": [
    "# Mistral Imports\n",
    "import ollama"
   ],
   "id": "1fc1ea23c5dbdcd9",
   "outputs": [],
   "execution_count": 5
  },
  {
   "metadata": {
    "ExecuteTime": {
     "end_time": "2024-05-30T10:02:57.563659Z",
     "start_time": "2024-05-30T10:02:49.915691Z"
    }
   },
   "cell_type": "code",
   "source": [
    "response = ollama.chat(model='mistral', messages=[\n",
    "  {\n",
    "    'role': 'user',\n",
    "    'content': 'Why is the sky blue?',\n",
    "  },\n",
    "])\n",
    "print(response['message']['content'])"
   ],
   "id": "ed0c42be3ca9bf53",
   "outputs": [
    {
     "name": "stdout",
     "output_type": "stream",
     "text": [
      "The sky appears blue due to a phenomenon called Rayleigh scattering. The Earth's atmosphere is composed of a mixture of gases, including nitrogen and oxygen. When the sun's light enters the atmosphere, it collides with these gas molecules, causing the light to scatter in all directions. Blue light has a shorter wavelength than other colors, so it scatters more easily, making it more visible. As you get closer to the horizon, the sky often appears paler or even white – this is because the light must pass through more of the atmosphere, scattering the blue light more intensely.\n"
     ]
    }
   ],
   "execution_count": 6
  }
 ],
 "metadata": {
  "kernelspec": {
   "display_name": "Python 3",
   "language": "python",
   "name": "python3"
  },
  "language_info": {
   "codemirror_mode": {
    "name": "ipython",
    "version": 2
   },
   "file_extension": ".py",
   "mimetype": "text/x-python",
   "name": "python",
   "nbconvert_exporter": "python",
   "pygments_lexer": "ipython2",
   "version": "2.7.6"
  }
 },
 "nbformat": 4,
 "nbformat_minor": 5
}
